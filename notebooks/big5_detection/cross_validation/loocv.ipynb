{
 "cells": [
  {
   "cell_type": "code",
   "execution_count": null,
   "metadata": {},
   "outputs": [],
   "source": [
    "from sklearn.model_selection import LeaveOneOut, cross_val_score\n",
    "from sklearn.metrics import f1_score\n",
    "from joblib import load\n",
    "\n",
    "# Load the breast cancer dataset\n",
    "X, y = load_breast_cancer(return_X_y=True)\n",
    "\n",
    "# Load the pre-trained model\n",
    "model = load('model.joblib')\n",
    "\n",
    "# Use LOOCV to evaluate the model's performance and find the best threshold for classification\n",
    "loo = LeaveOneOut()\n",
    "cv_scores = []\n",
    "thresholds = []\n",
    "\n",
    "for train_index, test_index in loo.split(X):\n",
    "    X_train, X_test = X[train_index], X[test_index]\n",
    "    y_train, y_test = y[train_index], y[test_index]\n",
    "    \n",
    "    # Make predictions on the test instance\n",
    "    y_pred_prob = model.predict_proba(X_test)[:, 1]\n",
    "    \n",
    "    # Find the best threshold for classification\n",
    "    best_threshold = 0\n",
    "    best_score = 0\n",
    "    for threshold in np.arange(0, 1.01, 0.01):\n",
    "        y_pred = (y_pred_prob > threshold).astype(int)\n",
    "        score = f1_score(y_test, y_pred)\n",
    "        if score > best_score:\n",
    "            best_score = score\n",
    "            best_threshold = threshold\n",
    "    \n",
    "    # Store the best threshold and the F1 score for this instance\n",
    "    thresholds.append(best_threshold)\n",
    "    cv_scores.append(best_score)\n",
    "\n",
    "# Calculate the mean and standard deviation of the F1 scores\n",
    "mean_f1 = np.mean(cv_scores)\n",
    "std_f1 = np.std(cv_scores)\n",
    "\n",
    "print(\"LOOCV F1 score: {:.3f} +/- {:.3f}\".format(mean_f1, std_f1))"
   ]
  }
 ],
 "metadata": {
  "language_info": {
   "name": "python"
  },
  "orig_nbformat": 4
 },
 "nbformat": 4,
 "nbformat_minor": 2
}
