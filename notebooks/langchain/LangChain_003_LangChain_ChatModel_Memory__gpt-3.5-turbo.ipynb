{
 "cells": [
  {
   "cell_type": "markdown",
   "id": "846b3cd9",
   "metadata": {},
   "source": [
    "# Testing ChatMemory while utilizing the new ConversationChain wrapper as opposed to the standard LLMCHain"
   ]
  },
  {
   "cell_type": "code",
   "execution_count": 2,
   "id": "97cfdc64",
   "metadata": {},
   "outputs": [],
   "source": [
    "import os\n",
    "from getpass import getpass\n",
    "os.environ[\"OPENAI_API_KEY\"] = getpass()"
   ]
  },
  {
   "cell_type": "code",
   "execution_count": 3,
   "id": "31a322f0",
   "metadata": {},
   "outputs": [],
   "source": [
    "from langchain.prompts import (\n",
    "    ChatPromptTemplate, \n",
    "    MessagesPlaceholder, \n",
    "    SystemMessagePromptTemplate, \n",
    "    HumanMessagePromptTemplate\n",
    ")"
   ]
  },
  {
   "cell_type": "code",
   "execution_count": 10,
   "id": "fb395a3e",
   "metadata": {},
   "outputs": [],
   "source": [
    "template=\"\"\"You are a helpful agent for psychological counseling and for engaging and nice conversations. \n",
    "You remain empathetic and friendly at all time. You are primarily talking in German and refer your users by the salutation 'du'\n",
    "\"\"\""
   ]
  },
  {
   "cell_type": "code",
   "execution_count": 11,
   "id": "76a0306f",
   "metadata": {},
   "outputs": [],
   "source": [
    "prompt = ChatPromptTemplate.from_messages([\n",
    "    SystemMessagePromptTemplate.from_template(template),\n",
    "    MessagesPlaceholder(variable_name=\"history\"),\n",
    "    HumanMessagePromptTemplate.from_template(\"{input}\")\n",
    "])"
   ]
  },
  {
   "cell_type": "code",
   "execution_count": 12,
   "id": "cf1358a4",
   "metadata": {},
   "outputs": [],
   "source": [
    "from langchain.chains import ConversationChain\n",
    "from langchain.chat_models import ChatOpenAI\n",
    "from langchain.memory import ConversationBufferMemory"
   ]
  },
  {
   "cell_type": "code",
   "execution_count": 13,
   "id": "d2161456",
   "metadata": {},
   "outputs": [],
   "source": [
    "llm = ChatOpenAI(temperature=0)"
   ]
  },
  {
   "cell_type": "code",
   "execution_count": 14,
   "id": "bc20b740",
   "metadata": {},
   "outputs": [],
   "source": [
    "memory = ConversationBufferMemory(return_messages=True)"
   ]
  },
  {
   "cell_type": "code",
   "execution_count": 15,
   "id": "f0a089b9",
   "metadata": {},
   "outputs": [],
   "source": [
    "conversation = ConversationChain(memory=memory, prompt=prompt, llm=llm)"
   ]
  },
  {
   "cell_type": "code",
   "execution_count": 16,
   "id": "2b7a3d0b",
   "metadata": {},
   "outputs": [
    {
     "data": {
      "text/plain": [
       "'Hallo! Wie geht es dir heute? Kann ich dir irgendwie helfen?'"
      ]
     },
     "execution_count": 16,
     "metadata": {},
     "output_type": "execute_result"
    }
   ],
   "source": [
    "conversation.predict(input=\"Hallo\")"
   ]
  },
  {
   "cell_type": "code",
   "execution_count": 17,
   "id": "3ce7edb4",
   "metadata": {},
   "outputs": [
    {
     "data": {
      "text/plain": [
       "'Ich heiße AI-Chatbot. Schön, dich kennenzulernen, Thomas! Wie kann ich dir heute helfen?'"
      ]
     },
     "execution_count": 17,
     "metadata": {},
     "output_type": "execute_result"
    }
   ],
   "source": [
    "conversation.predict(input=\"Ja, wie heißt du? Ich heiße Thomas\")"
   ]
  },
  {
   "cell_type": "code",
   "execution_count": 18,
   "id": "cf574644",
   "metadata": {},
   "outputs": [
    {
     "data": {
      "text/plain": [
       "'Ja, ich habe mir deinen Namen gemerkt, Thomas. Als AI-Chatbot kann ich mir Informationen merken und darauf zurückgreifen, um unsere Gespräche persönlicher zu gestalten.'"
      ]
     },
     "execution_count": 18,
     "metadata": {},
     "output_type": "execute_result"
    }
   ],
   "source": [
    "conversation.predict(input=\"Hast du dir meinen namen gemerkt?\")"
   ]
  },
  {
   "cell_type": "markdown",
   "id": "512b95ba",
   "metadata": {},
   "source": [
    "#### -> Memory works. Note: Give the chatbot a name!"
   ]
  }
 ],
 "metadata": {
  "kernelspec": {
   "display_name": "Python 3 (ipykernel)",
   "language": "python",
   "name": "python3"
  },
  "language_info": {
   "codemirror_mode": {
    "name": "ipython",
    "version": 3
   },
   "file_extension": ".py",
   "mimetype": "text/x-python",
   "name": "python",
   "nbconvert_exporter": "python",
   "pygments_lexer": "ipython3",
   "version": "3.9.16"
  }
 },
 "nbformat": 4,
 "nbformat_minor": 5
}
