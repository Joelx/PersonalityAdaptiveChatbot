{
 "cells": [
  {
   "cell_type": "markdown",
   "id": "1e0fe027",
   "metadata": {},
   "source": [
    "# Testing the LangChain Chat API based on gpt-3.5-turbo\n",
    "(Base source: https://langchain.readthedocs.io/en/latest/modules/chat/getting_started.html )"
   ]
  },
  {
   "cell_type": "code",
   "execution_count": 2,
   "id": "ee294d0d",
   "metadata": {},
   "outputs": [],
   "source": [
    "import os\n",
    "from getpass import getpass\n",
    "os.environ[\"OPENAI_API_KEY\"] = getpass()"
   ]
  },
  {
   "cell_type": "code",
   "execution_count": 3,
   "id": "a82cd67c",
   "metadata": {},
   "outputs": [],
   "source": [
    "from langchain.chat_models import ChatOpenAI\n",
    "from langchain import PromptTemplate, LLMChain\n",
    "from langchain.prompts.chat import (\n",
    "    ChatPromptTemplate,\n",
    "    SystemMessagePromptTemplate,\n",
    "    AIMessagePromptTemplate,\n",
    "    HumanMessagePromptTemplate,\n",
    ")\n",
    "from langchain.schema import (\n",
    "    AIMessage,\n",
    "    HumanMessage,\n",
    "    SystemMessage\n",
    ")"
   ]
  },
  {
   "cell_type": "code",
   "execution_count": 4,
   "id": "af11f302",
   "metadata": {},
   "outputs": [],
   "source": [
    "chat = ChatOpenAI(temperature=0)"
   ]
  },
  {
   "cell_type": "code",
   "execution_count": 15,
   "id": "d1f69b12",
   "metadata": {},
   "outputs": [],
   "source": [
    "# Checking default OpenAI model for the ChatOpenAI class"
   ]
  },
  {
   "cell_type": "code",
   "execution_count": 14,
   "id": "93ed0623",
   "metadata": {},
   "outputs": [
    {
     "data": {
      "text/plain": [
       "'gpt-3.5-turbo'"
      ]
     },
     "execution_count": 14,
     "metadata": {},
     "output_type": "execute_result"
    }
   ],
   "source": [
    "chat.model_name"
   ]
  },
  {
   "cell_type": "markdown",
   "id": "274d70ff",
   "metadata": {},
   "source": [
    "## Simple Prompt"
   ]
  },
  {
   "cell_type": "code",
   "execution_count": 7,
   "id": "20bd57f5",
   "metadata": {},
   "outputs": [
    {
     "data": {
      "text/plain": [
       "AIMessage(content='\\n\\nHallo! Wie kann ich Ihnen helfen?', additional_kwargs={})"
      ]
     },
     "execution_count": 7,
     "metadata": {},
     "output_type": "execute_result"
    }
   ],
   "source": [
    "chat([HumanMessage(content=\"Hallo\")])"
   ]
  },
  {
   "cell_type": "markdown",
   "id": "aa0d5357",
   "metadata": {},
   "source": [
    "## Multiple Messages\n",
    "System Messages can be used for dynamic zero- or few-shot learning"
   ]
  },
  {
   "cell_type": "code",
   "execution_count": 8,
   "id": "f3a2efdc",
   "metadata": {},
   "outputs": [
    {
     "data": {
      "text/plain": [
       "AIMessage(content='Okay, hier sind ein paar Ideen, wie du extravertierter sein kannst:\\n\\n1. Sprich mit Fremden: Wenn du in der Öffentlichkeit bist, sprich mit Menschen um dich herum. Frage sie, wie ihr Tag war oder was sie gerade tun. Es kann schwierig sein, aber es kann auch sehr lohnend sein, neue Leute kennenzulernen.\\n\\n2. Geh raus und mach etwas: Plane Aktivitäten mit Freunden oder Familie. Gehe zum Abendessen, ins Kino oder zu einem Konzert. Je mehr du draußen bist, desto mehr Gelegenheiten hast du, mit anderen zu interagieren.\\n\\n3. Sei selbstbewusst: Wenn du mit anderen sprichst, sei selbstbewusst und zeige dein wahres Selbst. Sei nicht schüchtern oder zurückhaltend. Wenn du dich selbstbewusst präsentierst, werden andere dich als offener und extravertierter wahrnehmen.\\n\\n4. Sei neugierig: Stelle Fragen und höre aufmerksam zu, wenn andere sprechen. Sei neugierig auf ihre Interessen und Erfahrungen. Dies zeigt,', additional_kwargs={})"
      ]
     },
     "execution_count": 8,
     "metadata": {},
     "output_type": "execute_result"
    }
   ],
   "source": [
    "messages = [\n",
    "    SystemMessage(content=\"You should now act more extravert!\"),\n",
    "    HumanMessage(content=\"Ich weiß nicht.. erzähl mir was!\")\n",
    "]\n",
    "chat(messages)"
   ]
  },
  {
   "cell_type": "markdown",
   "id": "e0ab9ab7",
   "metadata": {},
   "source": [
    "#### -> The answer looks very promising. Fluent German and pretty reasonable advice out of the box. Also its worth mentioning, that the Prompt can be formulated in English, but the answer is still German. Since most LLMs are strongest in English, it may be advisable to still use English Prompts, even when optimizing for German"
   ]
  },
  {
   "cell_type": "markdown",
   "id": "90403c0e",
   "metadata": {},
   "source": [
    "## Testing Memory"
   ]
  },
  {
   "cell_type": "code",
   "execution_count": 9,
   "id": "e9dbe390",
   "metadata": {},
   "outputs": [
    {
     "data": {
      "text/plain": [
       "AIMessage(content='Schön, dich kennenzulernen, Thomas! Wie kann ich dir helfen?', additional_kwargs={})"
      ]
     },
     "execution_count": 9,
     "metadata": {},
     "output_type": "execute_result"
    }
   ],
   "source": [
    "chat([HumanMessage(content=\"Ich heiße Thomas\")])"
   ]
  },
  {
   "cell_type": "code",
   "execution_count": 10,
   "id": "fe03f5b0",
   "metadata": {},
   "outputs": [
    {
     "data": {
      "text/plain": [
       "AIMessage(content='\\n\\nAls KI habe ich mir deinen Namen gemerkt und kann ihn jederzeit abrufen.', additional_kwargs={})"
      ]
     },
     "execution_count": 10,
     "metadata": {},
     "output_type": "execute_result"
    }
   ],
   "source": [
    "chat([HumanMessage(content=\"Hast du dir meinen namen gemerkt?\")])"
   ]
  },
  {
   "cell_type": "code",
   "execution_count": 11,
   "id": "861a3578",
   "metadata": {},
   "outputs": [
    {
     "data": {
      "text/plain": [
       "AIMessage(content='\\n\\nIch benötige mehr Informationen, um Ihre Frage zu beantworten. Bitte geben Sie an, auf welchen Namen oder welches Objekt sich Ihre Frage bezieht.', additional_kwargs={})"
      ]
     },
     "execution_count": 11,
     "metadata": {},
     "output_type": "execute_result"
    }
   ],
   "source": [
    "chat([HumanMessage(content=\"Wie lautet er?\")])"
   ]
  },
  {
   "cell_type": "markdown",
   "id": "d879e95c",
   "metadata": {},
   "source": [
    "#### -> Memorization failed! Model has not remembered name and does not carry over context. Expected behavior for the new Chat API of LangChain would've been a default memory manager"
   ]
  },
  {
   "cell_type": "markdown",
   "id": "b462e58e",
   "metadata": {},
   "source": [
    "## Prompt Templates"
   ]
  },
  {
   "cell_type": "code",
   "execution_count": 21,
   "id": "4ba18e70",
   "metadata": {},
   "outputs": [],
   "source": [
    "template=\"\"\"You are a helpful agent for psychological counseling and for engaging and nice conversations. \n",
    "You remain empathetic and friendly at all time. \n",
    "\"\"\"\n",
    "system_message_prompt = SystemMessagePromptTemplate.from_template(template)\n",
    "human_template=\"{text}\"\n",
    "human_message_prompt = HumanMessagePromptTemplate.from_template(human_template)"
   ]
  },
  {
   "cell_type": "code",
   "execution_count": 22,
   "id": "c521041d",
   "metadata": {},
   "outputs": [
    {
     "data": {
      "text/plain": [
       "AIMessage(content='Hallo Thomas, wie geht es Ihnen heute? Gibt es etwas, das Sie gerne besprechen oder teilen möchten? Ich bin hier, um Ihnen zuzuhören und Ihnen zu helfen, wenn ich kann.', additional_kwargs={})"
      ]
     },
     "execution_count": 22,
     "metadata": {},
     "output_type": "execute_result"
    }
   ],
   "source": [
    "chat_prompt = ChatPromptTemplate.from_messages([system_message_prompt, human_message_prompt])\n",
    "\n",
    "# get a chat completion from the formatted messages\n",
    "chat(chat_prompt.format_prompt(text=\"Ich heiße thomas\").to_messages())"
   ]
  },
  {
   "cell_type": "markdown",
   "id": "4def20d7",
   "metadata": {},
   "source": [
    "#### Looks promising! The model seems to be eager to help. Now let's try to make the model use a less formal salutation, since the conversation should be more casual"
   ]
  },
  {
   "cell_type": "code",
   "execution_count": 38,
   "id": "6d92b49b",
   "metadata": {},
   "outputs": [],
   "source": [
    "template=\"\"\"You are a helpful agent for psychological counseling and for engaging and nice conversations. \n",
    "You remain empathetic and friendly at all time. You are primarily talking in German and refer your users by the salutation 'du'\n",
    "\"\"\"\n",
    "system_message_prompt = SystemMessagePromptTemplate.from_template(template)"
   ]
  },
  {
   "cell_type": "code",
   "execution_count": 39,
   "id": "75185be2",
   "metadata": {},
   "outputs": [
    {
     "data": {
      "text/plain": [
       "AIMessage(content='Es tut mir leid, aber ich habe keinen Zugriff auf persönliche Informationen. Wie darf ich dir helfen?', additional_kwargs={})"
      ]
     },
     "execution_count": 39,
     "metadata": {},
     "output_type": "execute_result"
    }
   ],
   "source": [
    "chat_prompt = ChatPromptTemplate.from_messages([system_message_prompt, human_message_prompt])\n",
    "chat(chat_prompt.format_prompt(text=\"Ja, das kannst du. Wie heiße ich?\").to_messages())"
   ]
  },
  {
   "cell_type": "markdown",
   "id": "5e998225",
   "metadata": {},
   "source": [
    "#### The model has indeed changed the German salutation \"Sie\" to \"du\", which is less formal. However, it still has no memory ;)"
   ]
  },
  {
   "cell_type": "markdown",
   "id": "70ffcb60",
   "metadata": {},
   "source": [
    "## Chaining (Pipelining)"
   ]
  },
  {
   "cell_type": "code",
   "execution_count": 41,
   "id": "beede18c",
   "metadata": {},
   "outputs": [],
   "source": [
    "chain = LLMChain(llm=chat, prompt=chat_prompt)"
   ]
  },
  {
   "cell_type": "code",
   "execution_count": 42,
   "id": "c69ac107",
   "metadata": {},
   "outputs": [
    {
     "data": {
      "text/plain": [
       "'Mir geht es gut, danke der Nachfrage. Wie geht es dir?'"
      ]
     },
     "execution_count": 42,
     "metadata": {},
     "output_type": "execute_result"
    }
   ],
   "source": [
    "chain.run(text=\"Wie gehts dir?\")"
   ]
  },
  {
   "cell_type": "code",
   "execution_count": 40,
   "id": "2ef48d73",
   "metadata": {},
   "outputs": [
    {
     "data": {
      "text/plain": [
       "[SystemMessagePromptTemplate(prompt=PromptTemplate(input_variables=[], output_parser=None, partial_variables={}, template=\"You are a helpful agent for psychological counseling and for engaging and nice conversations. \\nYou remain empathetic and friendly at all time. You are primarily talking in German and refer your users by the salutation 'du'\\n\", template_format='f-string', validate_template=True), additional_kwargs={}),\n",
       " HumanMessagePromptTemplate(prompt=PromptTemplate(input_variables=['text'], output_parser=None, partial_variables={}, template='{text}', template_format='f-string', validate_template=True), additional_kwargs={})]"
      ]
     },
     "execution_count": 40,
     "metadata": {},
     "output_type": "execute_result"
    }
   ],
   "source": [
    "chat_prompt.messages"
   ]
  },
  {
   "cell_type": "code",
   "execution_count": null,
   "id": "8c5ec1e2",
   "metadata": {},
   "outputs": [],
   "source": []
  }
 ],
 "metadata": {
  "kernelspec": {
   "display_name": "Python 3 (ipykernel)",
   "language": "python",
   "name": "python3"
  },
  "language_info": {
   "codemirror_mode": {
    "name": "ipython",
    "version": 3
   },
   "file_extension": ".py",
   "mimetype": "text/x-python",
   "name": "python",
   "nbconvert_exporter": "python",
   "pygments_lexer": "ipython3",
   "version": "3.9.16"
  }
 },
 "nbformat": 4,
 "nbformat_minor": 5
}
