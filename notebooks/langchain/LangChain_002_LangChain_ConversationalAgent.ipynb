{
 "cells": [
  {
   "cell_type": "markdown",
   "id": "16bfff7e",
   "metadata": {},
   "source": [
    "# Testing LangChain Conversational Agent\n",
    "(Base source: https://langchain.readthedocs.io/en/latest/modules/memory/examples/conversational_agent.html )"
   ]
  },
  {
   "cell_type": "code",
   "execution_count": 6,
   "id": "1452b347",
   "metadata": {},
   "outputs": [],
   "source": [
    "import os\n",
    "from getpass import getpass\n",
    "os.environ[\"OPENAI_API_KEY\"] = getpass()"
   ]
  },
  {
   "cell_type": "code",
   "execution_count": 1,
   "id": "92411a90",
   "metadata": {},
   "outputs": [],
   "source": [
    "from langchain.agents import Tool\n",
    "from langchain.memory import ConversationBufferMemory\n",
    "from langchain import OpenAI\n",
    "from langchain.utilities import GoogleSearchAPIWrapper\n",
    "from langchain.agents import initialize_agent"
   ]
  },
  {
   "cell_type": "markdown",
   "id": "ec418171",
   "metadata": {},
   "source": [
    "## Initialize memory"
   ]
  },
  {
   "cell_type": "code",
   "execution_count": 4,
   "id": "5ca1c5eb",
   "metadata": {},
   "outputs": [],
   "source": [
    "memory = ConversationBufferMemory(memory_key=\"chat_history\")"
   ]
  },
  {
   "cell_type": "markdown",
   "id": "503d73d7",
   "metadata": {},
   "source": [
    "## Create OpenAI LLM wrapper and initialize agent chain with conversationa-react prompt\n",
    "#### From the LangChain hub Git Repository (https://github.com/hwchase17/langchain-hub/blob/master/agents/zero-shot-react-conversation/agent.json), the conversational-react-description contains the following prompt: \n",
    " \"prefix\": \"Assistant is a large language model trained by OpenAI.\\n\\nAssistant is designed to be able to assist with a wide range of tasks, from answering simple questions to providing in-depth explanations and discussions on a wide range of topics. As a language model, Assistant is able to generate human-like text based on the input it receives, allowing it to engage in natural-sounding conversations and provide responses that are coherent and relevant to the topic at hand.\\n\\nAssistant is constantly learning and improving, and its capabilities are constantly evolving. It is able to process and understand large amounts of text, and can use this knowledge to provide accurate and informative responses to a wide range of questions. Additionally, Assistant is able to generate its own text based on the input it receives, allowing it to engage in discussions and provide explanations and descriptions on a wide range of topics.\\n\\nOverall, Assistant is a powerful tool that can help with a wide range of tasks and provide valuable insights and information on a wide range of topics. Whether you need help with a specific question or just want to have a conversation about a particular topic, Assistant is here to assist.\\n\\nTOOLS:\\n------\\n\\nAssistant has access to the following tools:\",\n",
    "  \"suffix\": \"Begin!\\n\\nPrevious conversation history:\\n{chat_history}\\n\\nNew input: {input}\\n{agent_scratchpad}\",\n",
    "  \"ai_prefix\": \"AI\",\n",
    "  \"human_prefix\": \"Human\"\n"
   ]
  },
  {
   "cell_type": "code",
   "execution_count": 11,
   "id": "6d1d7c87",
   "metadata": {},
   "outputs": [],
   "source": [
    "llm=OpenAI(temperature=0)\n",
    "agent_chain = initialize_agent(tools=[], llm=llm, agent=\"conversational-react-description\", verbose=True, memory=memory)"
   ]
  },
  {
   "cell_type": "code",
   "execution_count": 12,
   "id": "a6b8688d",
   "metadata": {},
   "outputs": [
    {
     "data": {
      "text/plain": [
       "'text-davinci-003'"
      ]
     },
     "execution_count": 12,
     "metadata": {},
     "output_type": "execute_result"
    }
   ],
   "source": [
    "# Checking default model of OpenAI wrapper\n",
    "llm.model_name"
   ]
  },
  {
   "cell_type": "markdown",
   "id": "1db757f5",
   "metadata": {},
   "source": [
    "#### -> Standard LangChain OpenAI model is text-davinci-003 (GPT-3)"
   ]
  },
  {
   "cell_type": "code",
   "execution_count": 13,
   "id": "896f809f",
   "metadata": {},
   "outputs": [
    {
     "name": "stdout",
     "output_type": "stream",
     "text": [
      "\n",
      "\n",
      "\u001b[1m> Entering new AgentExecutor chain...\u001b[0m\n",
      "\u001b[32;1m\u001b[1;3m\n",
      "Thought: Do I need to use a tool? No\n",
      "AI: Hallo Thomas, wie kann ich dir helfen?\u001b[0m\n",
      "\n",
      "\u001b[1m> Finished chain.\u001b[0m\n"
     ]
    },
    {
     "data": {
      "text/plain": [
       "'Hallo Thomas, wie kann ich dir helfen?'"
      ]
     },
     "execution_count": 13,
     "metadata": {},
     "output_type": "execute_result"
    }
   ],
   "source": [
    "agent_chain.run(input=\"Hallo ich bin Thomas\")"
   ]
  },
  {
   "cell_type": "markdown",
   "id": "42b60dc9",
   "metadata": {},
   "source": [
    "## Testing model Memory"
   ]
  },
  {
   "cell_type": "code",
   "execution_count": 15,
   "id": "0298b9fb",
   "metadata": {},
   "outputs": [
    {
     "name": "stdout",
     "output_type": "stream",
     "text": [
      "\n",
      "\n",
      "\u001b[1m> Entering new AgentExecutor chain...\u001b[0m\n",
      "\u001b[32;1m\u001b[1;3m\n",
      "Thought: Do I need to use a tool? No\n",
      "AI: Du heißt Thomas.\u001b[0m\n",
      "\n",
      "\u001b[1m> Finished chain.\u001b[0m\n"
     ]
    },
    {
     "data": {
      "text/plain": [
       "'Du heißt Thomas.'"
      ]
     },
     "execution_count": 15,
     "metadata": {},
     "output_type": "execute_result"
    }
   ],
   "source": [
    "agent_chain.run(input=\"Wie heiße ich?\")"
   ]
  },
  {
   "cell_type": "markdown",
   "id": "c282646b",
   "metadata": {},
   "source": [
    "#### -> Memory works"
   ]
  },
  {
   "cell_type": "markdown",
   "id": "b52d55cc",
   "metadata": {},
   "source": [
    "## Try influencing the bot via new prompt"
   ]
  },
  {
   "cell_type": "code",
   "execution_count": null,
   "id": "3cf5f016",
   "metadata": {},
   "outputs": [],
   "source": []
  }
 ],
 "metadata": {
  "kernelspec": {
   "display_name": "Python 3 (ipykernel)",
   "language": "python",
   "name": "python3"
  },
  "language_info": {
   "codemirror_mode": {
    "name": "ipython",
    "version": 3
   },
   "file_extension": ".py",
   "mimetype": "text/x-python",
   "name": "python",
   "nbconvert_exporter": "python",
   "pygments_lexer": "ipython3",
   "version": "3.8.16"
  }
 },
 "nbformat": 4,
 "nbformat_minor": 5
}
